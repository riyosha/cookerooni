{
 "cells": [
  {
   "cell_type": "markdown",
   "id": "aa84598d",
   "metadata": {},
   "source": [
    "# Using Food.com tokenized data\n",
    "\n",
    "Following code extracts top ingredients in descending order of their counts, as present in the Food.com dataset"
   ]
  },
  {
   "cell_type": "code",
   "execution_count": 1,
   "id": "9a8c18d7",
   "metadata": {},
   "outputs": [],
   "source": [
    "import pandas as pd\n",
    "import numpy as np\n",
    "import pickle\n",
    "import sys\n",
    "import types\n",
    "from collections import Counter\n",
    "\n",
    "import pandas.core.indexes.base\n",
    "sys.modules['pandas.core.indexes.numeric'] = pandas.core.indexes.base\n",
    "setattr(pandas.core.indexes.base, 'Int64Index', pd.Index)\n",
    "\n",
    "with open(\"../Data/Food/ingr_map.pkl\", \"rb\") as f:\n",
    "    ingr_map = pickle.load(f, encoding=\"latin1\")"
   ]
  },
  {
   "cell_type": "code",
   "execution_count": null,
   "id": "b21314f0",
   "metadata": {},
   "outputs": [],
   "source": [
    "top_ingredients = ingr_map[['replaced', 'count']].drop_duplicates(subset='replaced').sort_values(by='count', ascending=False)\n",
    "top_ingredients.to_csv(\"../Data/Food/top_ingredients.csv\", index=False)"
   ]
  },
  {
   "cell_type": "markdown",
   "id": "32cc99d9",
   "metadata": {},
   "source": [
    "# RecipeNLG EDA"
   ]
  },
  {
   "cell_type": "code",
   "execution_count": 2,
   "id": "0cecc2e2",
   "metadata": {},
   "outputs": [
    {
     "data": {
      "text/html": [
       "<div>\n",
       "<style scoped>\n",
       "    .dataframe tbody tr th:only-of-type {\n",
       "        vertical-align: middle;\n",
       "    }\n",
       "\n",
       "    .dataframe tbody tr th {\n",
       "        vertical-align: top;\n",
       "    }\n",
       "\n",
       "    .dataframe thead th {\n",
       "        text-align: right;\n",
       "    }\n",
       "</style>\n",
       "<table border=\"1\" class=\"dataframe\">\n",
       "  <thead>\n",
       "    <tr style=\"text-align: right;\">\n",
       "      <th></th>\n",
       "      <th>Unnamed: 0</th>\n",
       "      <th>title</th>\n",
       "      <th>ingredients</th>\n",
       "      <th>directions</th>\n",
       "      <th>link</th>\n",
       "      <th>source</th>\n",
       "      <th>NER</th>\n",
       "    </tr>\n",
       "  </thead>\n",
       "  <tbody>\n",
       "    <tr>\n",
       "      <th>0</th>\n",
       "      <td>0</td>\n",
       "      <td>No-Bake Nut Cookies</td>\n",
       "      <td>[\"1 c. firmly packed brown sugar\", \"1/2 c. eva...</td>\n",
       "      <td>[\"In a heavy 2-quart saucepan, mix brown sugar...</td>\n",
       "      <td>www.cookbooks.com/Recipe-Details.aspx?id=44874</td>\n",
       "      <td>Gathered</td>\n",
       "      <td>[\"brown sugar\", \"milk\", \"vanilla\", \"nuts\", \"bu...</td>\n",
       "    </tr>\n",
       "    <tr>\n",
       "      <th>1</th>\n",
       "      <td>1</td>\n",
       "      <td>Jewell Ball'S Chicken</td>\n",
       "      <td>[\"1 small jar chipped beef, cut up\", \"4 boned ...</td>\n",
       "      <td>[\"Place chipped beef on bottom of baking dish....</td>\n",
       "      <td>www.cookbooks.com/Recipe-Details.aspx?id=699419</td>\n",
       "      <td>Gathered</td>\n",
       "      <td>[\"beef\", \"chicken breasts\", \"cream of mushroom...</td>\n",
       "    </tr>\n",
       "    <tr>\n",
       "      <th>2</th>\n",
       "      <td>2</td>\n",
       "      <td>Creamy Corn</td>\n",
       "      <td>[\"2 (16 oz.) pkg. frozen corn\", \"1 (8 oz.) pkg...</td>\n",
       "      <td>[\"In a slow cooker, combine all ingredients. C...</td>\n",
       "      <td>www.cookbooks.com/Recipe-Details.aspx?id=10570</td>\n",
       "      <td>Gathered</td>\n",
       "      <td>[\"frozen corn\", \"cream cheese\", \"butter\", \"gar...</td>\n",
       "    </tr>\n",
       "    <tr>\n",
       "      <th>3</th>\n",
       "      <td>3</td>\n",
       "      <td>Chicken Funny</td>\n",
       "      <td>[\"1 large whole chicken\", \"2 (10 1/2 oz.) cans...</td>\n",
       "      <td>[\"Boil and debone chicken.\", \"Put bite size pi...</td>\n",
       "      <td>www.cookbooks.com/Recipe-Details.aspx?id=897570</td>\n",
       "      <td>Gathered</td>\n",
       "      <td>[\"chicken\", \"chicken gravy\", \"cream of mushroo...</td>\n",
       "    </tr>\n",
       "    <tr>\n",
       "      <th>4</th>\n",
       "      <td>4</td>\n",
       "      <td>Reeses Cups(Candy)</td>\n",
       "      <td>[\"1 c. peanut butter\", \"3/4 c. graham cracker ...</td>\n",
       "      <td>[\"Combine first four ingredients and press in ...</td>\n",
       "      <td>www.cookbooks.com/Recipe-Details.aspx?id=659239</td>\n",
       "      <td>Gathered</td>\n",
       "      <td>[\"peanut butter\", \"graham cracker crumbs\", \"bu...</td>\n",
       "    </tr>\n",
       "    <tr>\n",
       "      <th>...</th>\n",
       "      <td>...</td>\n",
       "      <td>...</td>\n",
       "      <td>...</td>\n",
       "      <td>...</td>\n",
       "      <td>...</td>\n",
       "      <td>...</td>\n",
       "      <td>...</td>\n",
       "    </tr>\n",
       "    <tr>\n",
       "      <th>2231137</th>\n",
       "      <td>2231137</td>\n",
       "      <td>Sunny's Fake Crepes</td>\n",
       "      <td>[\"1/2 cup chocolate hazelnut spread (recommend...</td>\n",
       "      <td>[\"Spread hazelnut spread on 1 side of each tor...</td>\n",
       "      <td>www.foodnetwork.com/recipes/sunny-anderson/sun...</td>\n",
       "      <td>Recipes1M</td>\n",
       "      <td>[\"chocolate hazelnut spread\", \"tortillas\", \"bu...</td>\n",
       "    </tr>\n",
       "    <tr>\n",
       "      <th>2231138</th>\n",
       "      <td>2231138</td>\n",
       "      <td>Devil Eggs</td>\n",
       "      <td>[\"1 dozen eggs\", \"1 paprika\", \"1 salt and pepp...</td>\n",
       "      <td>[\"Boil eggs on medium for 30mins.\", \"Then cool...</td>\n",
       "      <td>cookpad.com/us/recipes/355411-devil-eggs</td>\n",
       "      <td>Recipes1M</td>\n",
       "      <td>[\"eggs\", \"paprika\", \"salt\", \"choice\", \"miracle...</td>\n",
       "    </tr>\n",
       "    <tr>\n",
       "      <th>2231139</th>\n",
       "      <td>2231139</td>\n",
       "      <td>Extremely Easy and Quick - Namul Daikon Salad</td>\n",
       "      <td>[\"150 grams Daikon radish\", \"1 tbsp Sesame oil...</td>\n",
       "      <td>[\"Julienne the daikon and squeeze out the exce...</td>\n",
       "      <td>cookpad.com/us/recipes/153324-extremely-easy-a...</td>\n",
       "      <td>Recipes1M</td>\n",
       "      <td>[\"radish\", \"Sesame oil\", \"White sesame seeds\",...</td>\n",
       "    </tr>\n",
       "    <tr>\n",
       "      <th>2231140</th>\n",
       "      <td>2231140</td>\n",
       "      <td>Pan-Roasted Pork Chops With Apple Fritters</td>\n",
       "      <td>[\"1 cup apple cider\", \"6 tablespoons sugar\", \"...</td>\n",
       "      <td>[\"In a large bowl, mix the apple cider with 4 ...</td>\n",
       "      <td>cooking.nytimes.com/recipes/1015164</td>\n",
       "      <td>Recipes1M</td>\n",
       "      <td>[\"apple cider\", \"sugar\", \"kosher salt\", \"bay l...</td>\n",
       "    </tr>\n",
       "    <tr>\n",
       "      <th>2231141</th>\n",
       "      <td>2231141</td>\n",
       "      <td>Polpette in Spicy Tomato Sauce</td>\n",
       "      <td>[\"1 pound ground veal\", \"1/2 pound sweet Itali...</td>\n",
       "      <td>[\"Preheat the oven to 350.\", \"In a bowl, mix t...</td>\n",
       "      <td>www.foodandwine.com/recipes/polpette-spicy-tom...</td>\n",
       "      <td>Recipes1M</td>\n",
       "      <td>[\"ground veal\", \"sausage\", \"bread crumbs\", \"mi...</td>\n",
       "    </tr>\n",
       "  </tbody>\n",
       "</table>\n",
       "<p>2231142 rows × 7 columns</p>\n",
       "</div>"
      ],
      "text/plain": [
       "         Unnamed: 0                                          title  \\\n",
       "0                 0                            No-Bake Nut Cookies   \n",
       "1                 1                          Jewell Ball'S Chicken   \n",
       "2                 2                                    Creamy Corn   \n",
       "3                 3                                  Chicken Funny   \n",
       "4                 4                           Reeses Cups(Candy)     \n",
       "...             ...                                            ...   \n",
       "2231137     2231137                            Sunny's Fake Crepes   \n",
       "2231138     2231138                                     Devil Eggs   \n",
       "2231139     2231139  Extremely Easy and Quick - Namul Daikon Salad   \n",
       "2231140     2231140     Pan-Roasted Pork Chops With Apple Fritters   \n",
       "2231141     2231141                 Polpette in Spicy Tomato Sauce   \n",
       "\n",
       "                                               ingredients  \\\n",
       "0        [\"1 c. firmly packed brown sugar\", \"1/2 c. eva...   \n",
       "1        [\"1 small jar chipped beef, cut up\", \"4 boned ...   \n",
       "2        [\"2 (16 oz.) pkg. frozen corn\", \"1 (8 oz.) pkg...   \n",
       "3        [\"1 large whole chicken\", \"2 (10 1/2 oz.) cans...   \n",
       "4        [\"1 c. peanut butter\", \"3/4 c. graham cracker ...   \n",
       "...                                                    ...   \n",
       "2231137  [\"1/2 cup chocolate hazelnut spread (recommend...   \n",
       "2231138  [\"1 dozen eggs\", \"1 paprika\", \"1 salt and pepp...   \n",
       "2231139  [\"150 grams Daikon radish\", \"1 tbsp Sesame oil...   \n",
       "2231140  [\"1 cup apple cider\", \"6 tablespoons sugar\", \"...   \n",
       "2231141  [\"1 pound ground veal\", \"1/2 pound sweet Itali...   \n",
       "\n",
       "                                                directions  \\\n",
       "0        [\"In a heavy 2-quart saucepan, mix brown sugar...   \n",
       "1        [\"Place chipped beef on bottom of baking dish....   \n",
       "2        [\"In a slow cooker, combine all ingredients. C...   \n",
       "3        [\"Boil and debone chicken.\", \"Put bite size pi...   \n",
       "4        [\"Combine first four ingredients and press in ...   \n",
       "...                                                    ...   \n",
       "2231137  [\"Spread hazelnut spread on 1 side of each tor...   \n",
       "2231138  [\"Boil eggs on medium for 30mins.\", \"Then cool...   \n",
       "2231139  [\"Julienne the daikon and squeeze out the exce...   \n",
       "2231140  [\"In a large bowl, mix the apple cider with 4 ...   \n",
       "2231141  [\"Preheat the oven to 350.\", \"In a bowl, mix t...   \n",
       "\n",
       "                                                      link     source  \\\n",
       "0           www.cookbooks.com/Recipe-Details.aspx?id=44874   Gathered   \n",
       "1          www.cookbooks.com/Recipe-Details.aspx?id=699419   Gathered   \n",
       "2           www.cookbooks.com/Recipe-Details.aspx?id=10570   Gathered   \n",
       "3          www.cookbooks.com/Recipe-Details.aspx?id=897570   Gathered   \n",
       "4          www.cookbooks.com/Recipe-Details.aspx?id=659239   Gathered   \n",
       "...                                                    ...        ...   \n",
       "2231137  www.foodnetwork.com/recipes/sunny-anderson/sun...  Recipes1M   \n",
       "2231138           cookpad.com/us/recipes/355411-devil-eggs  Recipes1M   \n",
       "2231139  cookpad.com/us/recipes/153324-extremely-easy-a...  Recipes1M   \n",
       "2231140                cooking.nytimes.com/recipes/1015164  Recipes1M   \n",
       "2231141  www.foodandwine.com/recipes/polpette-spicy-tom...  Recipes1M   \n",
       "\n",
       "                                                       NER  \n",
       "0        [\"brown sugar\", \"milk\", \"vanilla\", \"nuts\", \"bu...  \n",
       "1        [\"beef\", \"chicken breasts\", \"cream of mushroom...  \n",
       "2        [\"frozen corn\", \"cream cheese\", \"butter\", \"gar...  \n",
       "3        [\"chicken\", \"chicken gravy\", \"cream of mushroo...  \n",
       "4        [\"peanut butter\", \"graham cracker crumbs\", \"bu...  \n",
       "...                                                    ...  \n",
       "2231137  [\"chocolate hazelnut spread\", \"tortillas\", \"bu...  \n",
       "2231138  [\"eggs\", \"paprika\", \"salt\", \"choice\", \"miracle...  \n",
       "2231139  [\"radish\", \"Sesame oil\", \"White sesame seeds\",...  \n",
       "2231140  [\"apple cider\", \"sugar\", \"kosher salt\", \"bay l...  \n",
       "2231141  [\"ground veal\", \"sausage\", \"bread crumbs\", \"mi...  \n",
       "\n",
       "[2231142 rows x 7 columns]"
      ]
     },
     "execution_count": 2,
     "metadata": {},
     "output_type": "execute_result"
    }
   ],
   "source": [
    "recipes = pd.read_csv('../Data/RecipeNLG/RecipeNLG_dataset.csv')\n",
    "recipes"
   ]
  },
  {
   "cell_type": "markdown",
   "id": "8741947e",
   "metadata": {},
   "source": [
    "# Recipe NLG Vector DB with ingredients\n",
    "\n",
    "The code below creates a vector DB with FAISS from all the ingredients mentioned in a dish's recipe. "
   ]
  },
  {
   "cell_type": "code",
   "execution_count": null,
   "id": "d77692d0",
   "metadata": {},
   "outputs": [
    {
     "name": "stderr",
     "output_type": "stream",
     "text": [
      "/opt/anaconda3/envs/cookeroni-env/lib/python3.11/site-packages/tqdm/auto.py:21: TqdmWarning: IProgress not found. Please update jupyter and ipywidgets. See https://ipywidgets.readthedocs.io/en/stable/user_install.html\n",
      "  from .autonotebook import tqdm as notebook_tqdm\n"
     ]
    }
   ],
   "source": [
    "from sentence_transformers import SentenceTransformer\n",
    "import faiss\n",
    "recipes = pd.read_csv(\"../Data/RecipeNLG/RecipeNLG_dataset.csv\")"
   ]
  },
  {
   "cell_type": "code",
   "execution_count": 5,
   "id": "973e2d25",
   "metadata": {},
   "outputs": [],
   "source": [
    "recipes['ingredients_text'] = recipes['NER'].apply(lambda x: \", \".join(eval(x)))\n"
   ]
  },
  {
   "cell_type": "code",
   "execution_count": 6,
   "id": "d41096fe",
   "metadata": {},
   "outputs": [
    {
     "name": "stderr",
     "output_type": "stream",
     "text": [
      "Batches: 100%|██████████| 782/782 [01:12<00:00, 10.80it/s]\n"
     ]
    },
    {
     "name": "stdout",
     "output_type": "stream",
     "text": [
      "Shape of embeddings: (50000, 384)\n"
     ]
    }
   ],
   "source": [
    "model = SentenceTransformer(\"all-MiniLM-L6-v2\") \n",
    "\n",
    "embeddings = model.encode(recipes['ingredients_text'].head(50000).tolist(), \n",
    "                            batch_size=64, \n",
    "                            show_progress_bar=True,\n",
    "                            convert_to_numpy=True)\n",
    "\n",
    "# Convert to float32 for FAISS\n",
    "embeddings = np.array(embeddings, dtype=\"float32\")\n",
    "embeddings = np.ascontiguousarray(embeddings)\n",
    "\n",
    "print(\"Shape of embeddings:\", embeddings.shape)\n",
    "\n",
    "# Build FAISS index (L2 similarity)\n",
    "index = faiss.IndexFlatL2(embeddings.shape[1])\n",
    "index.add(embeddings)\n"
   ]
  },
  {
   "cell_type": "code",
   "execution_count": 7,
   "id": "99fc10f4",
   "metadata": {},
   "outputs": [],
   "source": [
    "recipe_map = {\n",
    "    i: {\n",
    "        \"title\": recipes.iloc[i][\"title\"],\n",
    "        \"ingredients\": recipes.iloc[i][\"ingredients\"],\n",
    "        \"directions\": recipes.iloc[i][\"directions\"],\n",
    "        \"link\": recipes.iloc[i][\"link\"]\n",
    "    }\n",
    "    for i in range(len(embeddings))\n",
    "}"
   ]
  },
  {
   "cell_type": "code",
   "execution_count": 8,
   "id": "7493e9e6",
   "metadata": {},
   "outputs": [
    {
     "name": "stdout",
     "output_type": "stream",
     "text": [
      "Rank 1: Chicken And Rice(Low-Fat)  \n",
      "Ingredients: [\"4 large tomatoes\", \"1 large red bell pepper\", \"2 medium onions\", \"2 c. uncooked rice\", \"salt and pepper\", \"garlic powder\", \"1 chicken bouillon\", \"4 boneless breasts of chicken\"]\n",
      "Directions: [\"Cut up tomatoes into large chunks.\", \"Cut up pepper into strips. Cut up onions into rings.\", \"Dissolve chicken bouillon with 1 cup water.\", \"Combine ingredients and simmer until tomatoes dissolve. Add salt, pepper and garlic powder.\", \"Cut up chicken in strips and add.\", \"Simmer another 1/2 hour.\", \"Cook rice and add (or) serve it over the rice.\"]\n",
      "Link: www.cookbooks.com/Recipe-Details.aspx?id=579749\n",
      "---\n",
      "Rank 2: Stuffed Potatoes\n",
      "Ingredients: [\"10 medium size potatoes\", \"sausage, uncooked\", \"1 can tomatoes\", \"1 can tomato sauce\", \"2 c. cooked mixed vegetables\", \"1 medium chopped onion\", \"1/2 c. chopped bell pepper\", \"garlic to taste\", \"salt and pepper to taste\"]\n",
      "Directions: [\"Peel potatoes.\", \"Spiral or cut out center.\", \"Stuff with sausage (uncooked).\", \"Put in a casserole dish.\", \"Mix tomatoes, tomato sauce, mixed vegetables, onion, pepper, garlic, salt and pepper.\", \"Place inside part of potato in dish.\", \"Bake at 350\\u00b0 for 45 minutes or until potatoes are tender and sausage is done.\", \"Cook covered.\"]\n",
      "Link: www.cookbooks.com/Recipe-Details.aspx?id=184375\n",
      "---\n",
      "Rank 3: Quicky Chicken(Serves 4 To 6)  \n",
      "Ingredients: [\"1 large broiler, cut up\", \"salt and pepper\", \"4 large potatoes, peel and quarter lengthwise\", \"1 onion, sliced\", \"garlic salt\", \"1 can tomato sauce (15 oz. size)\"]\n",
      "Directions: [\"Variation:\", \"Eliminate tomato sauce, use a little more oil to coat potatoes and add oregano and green pepper rings.\"]\n",
      "Link: www.cookbooks.com/Recipe-Details.aspx?id=330258\n",
      "---\n",
      "Rank 4: Chicken & Spaghetti Casserole\n",
      "Ingredients: [\"1 box spaghetti\", \"1/2 c chopped onion\", \"1/2 c celery\", \"1/2 c chicken broth\", \"1/2 tsp garlic salt\", \"3 chicken breasts\", \"1/2 c chopped bell pepper\", \"1 can mashed tomatoes\", \"1/4 tsp red pepper\"]\n",
      "Directions: [\"Cook spaghetti, set aside.\", \"Cook chicken breasts, cool and chop.\", \"Cook in 2 tbsp oleo, onions, bell pepper, and celery.\", \"Add tomatoes and 2 cups chicken broth, red peppers, and garlic salt. Cook 20 minutes.\", \"Add spaghetti, boned chicken and 1/2 tbsp chopped cheese.\"]\n",
      "Link: www.cookbooks.com/Recipe-Details.aspx?id=114386\n",
      "---\n",
      "Rank 5: Rosemary Chicken With Vegetables\n",
      "Ingredients: [\"2 to 3 lb. whole chicken\", \"1 lemon\", \"2 Tbsp. rosemary\", \"2 Tbsp. garlic\", \"salt and pepper\", \"4 new potatoes\", \"2 carrots\", \"2 small onions\"]\n",
      "Directions: [\"Rinse chicken with water and pat dry.\", \"Salt and pepper entire chicken, then rub garlic onto chicken, then pat rosemary on chicken.\", \"Sprinkle juice of 1 lemon over chicken and stick the used lemon in chicken cavity.\", \"Put chicken in clay roasting oven or roasting bag.\", \"Surround chicken with chunks of potatoes, carrots and onion around chicken.\", \"Place in 375\\u00b0 oven and cook between 1 to 1 1/2 hours (check for doneness).\", \"Serves 4.\"]\n",
      "Link: www.cookbooks.com/Recipe-Details.aspx?id=636051\n",
      "---\n"
     ]
    }
   ],
   "source": [
    "user_ingredients = [\"chicken\", \"tomato\", \"garlic\", \"onion\"]\n",
    "\n",
    "query = \"Recipes with \" + \", \".join(user_ingredients)\n",
    "query_vec = model.encode([query], convert_to_numpy=True)\n",
    "query_vec = np.ascontiguousarray(query_vec, dtype=np.float32)\n",
    "\n",
    "k = 5\n",
    "distances, indices = index.search(query_vec, k)\n",
    "\n",
    "for rank, idx in enumerate(indices[0]):\n",
    "    recipe = recipe_map[idx]\n",
    "    print(f\"Rank {rank+1}: {recipe['title']}\")\n",
    "    print(\"Ingredients:\", recipe['ingredients'])\n",
    "    print(\"Directions:\", recipe['directions'])\n",
    "    print(\"Link:\", recipe['link'])\n",
    "    print(\"---\")\n"
   ]
  },
  {
   "cell_type": "markdown",
   "id": "75badd6b",
   "metadata": {},
   "source": [
    "# Recipe NLG Vector DB with ingredients and direction\n",
    "\n",
    "The code below creates a vector DB with FAISS from all the ingredients mentioned in a dish's recipe + plus the directions for the recipe. \n",
    "\n",
    "This might serve as the vector DB for Retrieval Augmented Generation of recipes using an LLM."
   ]
  },
  {
   "cell_type": "code",
   "execution_count": null,
   "id": "9813e378",
   "metadata": {},
   "outputs": [],
   "source": [
    "recipes['recipe_text'] = recipes.apply(\n",
    "    lambda row: str(row['title'] if pd.notnull(row['title']) else \"\") + \" \" +\n",
    "                \" \".join(row['NER']) if isinstance(row['NER'], (list, tuple)) else \"\", axis=1)\n",
    "                "
   ]
  }
 ],
 "metadata": {
  "kernelspec": {
   "display_name": "cookeroni-env",
   "language": "python",
   "name": "python3"
  },
  "language_info": {
   "codemirror_mode": {
    "name": "ipython",
    "version": 3
   },
   "file_extension": ".py",
   "mimetype": "text/x-python",
   "name": "python",
   "nbconvert_exporter": "python",
   "pygments_lexer": "ipython3",
   "version": "3.11.11"
  }
 },
 "nbformat": 4,
 "nbformat_minor": 5
}

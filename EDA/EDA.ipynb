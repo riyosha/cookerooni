{
 "cells": [
  {
   "cell_type": "markdown",
   "id": "aa84598d",
   "metadata": {},
   "source": [
    "# Using Food.com tokenized data\n",
    "\n",
    "Following code extracts top ingredients in descending order of their counts, as present in the Food.com dataset"
   ]
  },
  {
   "cell_type": "code",
   "execution_count": 12,
   "id": "70ebf85d",
   "metadata": {},
   "outputs": [],
   "source": [
    "import os\n",
    "os.chdir('..')"
   ]
  },
  {
   "cell_type": "code",
   "execution_count": null,
   "id": "9a8c18d7",
   "metadata": {},
   "outputs": [],
   "source": [
    "import pandas as pd\n",
    "import numpy as np\n",
    "import pickle\n",
    "import sys\n",
    "import types\n",
    "from collections import Counter\n",
    "\n",
    "import pandas.core.indexes.base\n",
    "sys.modules['pandas.core.indexes.numeric'] = pandas.core.indexes.base\n",
    "setattr(pandas.core.indexes.base, 'Int64Index', pd.Index)\n",
    "\n"
   ]
  },
  {
   "cell_type": "code",
   "execution_count": 14,
   "id": "aa803ab8",
   "metadata": {},
   "outputs": [],
   "source": [
    "from src import logger"
   ]
  },
  {
   "cell_type": "code",
   "execution_count": 15,
   "id": "5c198c0a",
   "metadata": {},
   "outputs": [
    {
     "name": "stdout",
     "output_type": "stream",
     "text": [
      "[2025-08-17 12:58:51,929: INFO: 1020500885]: Downloading data from https://drive.google.com/file/d/1M5c0pXG9onlrm0z0IlgAoFyz8C58kkFo/view?usp=sharing into file Data/Food.zip\n"
     ]
    },
    {
     "name": "stderr",
     "output_type": "stream",
     "text": [
      "Downloading...\n",
      "From (original): https://drive.google.com/uc?/export=download&id=1M5c0pXG9onlrm0z0IlgAoFyz8C58kkFo\n",
      "From (redirected): https://drive.google.com/uc?%2Fexport=download&id=1M5c0pXG9onlrm0z0IlgAoFyz8C58kkFo&confirm=t&uuid=594856fe-e977-4634-8ce1-0ffe968a2a7f\n",
      "To: /Users/riyosha/UW_MSDS/projects/cookerooni/Data/Food.zip\n",
      "100%|██████████| 280M/280M [00:02<00:00, 113MB/s]  \n"
     ]
    },
    {
     "name": "stdout",
     "output_type": "stream",
     "text": [
      "[2025-08-17 12:59:00,288: INFO: 1020500885]: Successfully extracted zip file to Data/Food\n"
     ]
    }
   ],
   "source": [
    "# Food.com data ingestion \n",
    "import gdown\n",
    "import zipfile\n",
    "\n",
    "dataset_url = \"https://drive.google.com/file/d/1M5c0pXG9onlrm0z0IlgAoFyz8C58kkFo/view?usp=sharing\"\n",
    "zip_download_dir = 'Data/Food.zip'\n",
    "os.makedirs('../Data', exist_ok=True)\n",
    "logger.info(f\"Downloading data from {dataset_url} into file {zip_download_dir}\")\n",
    "file_id = dataset_url.split(\"/\")[-2]\n",
    "prefix = 'https://drive.google.com/uc?/export=download&id='\n",
    "gdown.download(prefix+file_id,zip_download_dir)\n",
    "\n",
    "''' Extracts data from zip file '''\n",
    "unzip_path = 'Data/Food'\n",
    "os.makedirs(unzip_path, exist_ok=True)\n",
    "with zipfile.ZipFile(zip_download_dir, 'r') as zip_ref:\n",
    "    zip_ref.extractall(unzip_path)\n",
    "logger.info(f'Successfully extracted zip file to {unzip_path}')\n",
    "\n"
   ]
  },
  {
   "cell_type": "code",
   "execution_count": null,
   "id": "b21314f0",
   "metadata": {},
   "outputs": [],
   "source": [
    "with open(\"../Data/Food/ingr_map.pkl\", \"rb\") as f:\n",
    "    ingr_map = pickle.load(f, encoding=\"latin1\")\n",
    "top_ingredients = ingr_map[['replaced', 'count']].drop_duplicates(subset='replaced').sort_values(by='count', ascending=False)\n",
    "top_ingredients.to_csv(\"../Data/Food/top_ingredients.csv\", index=False)"
   ]
  },
  {
   "cell_type": "markdown",
   "id": "8741947e",
   "metadata": {},
   "source": [
    "# Recipe NLG Vector DB with ingredients\n",
    "\n",
    "The code below creates a vector DB with FAISS from all the ingredients mentioned in a dish's recipe. "
   ]
  },
  {
   "cell_type": "code",
   "execution_count": null,
   "id": "d77692d0",
   "metadata": {},
   "outputs": [
    {
     "name": "stderr",
     "output_type": "stream",
     "text": [
      "/opt/anaconda3/envs/cookeroni-env/lib/python3.11/site-packages/tqdm/auto.py:21: TqdmWarning: IProgress not found. Please update jupyter and ipywidgets. See https://ipywidgets.readthedocs.io/en/stable/user_install.html\n",
      "  from .autonotebook import tqdm as notebook_tqdm\n"
     ]
    }
   ],
   "source": [
    "from sentence_transformers import SentenceTransformer\n",
    "import faiss\n",
    "recipes = pd.read_csv(\"../Data/RecipeNLG/RecipeNLG_dataset.csv\")"
   ]
  },
  {
   "cell_type": "code",
   "execution_count": 5,
   "id": "973e2d25",
   "metadata": {},
   "outputs": [],
   "source": [
    "recipes['ingredients_text'] = recipes['NER'].apply(lambda x: \", \".join(eval(x)))\n"
   ]
  },
  {
   "cell_type": "code",
   "execution_count": 6,
   "id": "d41096fe",
   "metadata": {},
   "outputs": [
    {
     "name": "stderr",
     "output_type": "stream",
     "text": [
      "Batches: 100%|██████████| 782/782 [01:12<00:00, 10.80it/s]\n"
     ]
    },
    {
     "name": "stdout",
     "output_type": "stream",
     "text": [
      "Shape of embeddings: (50000, 384)\n"
     ]
    }
   ],
   "source": [
    "model = SentenceTransformer(\"all-MiniLM-L6-v2\") \n",
    "\n",
    "embeddings = model.encode(recipes['ingredients_text'].head(50000).tolist(), \n",
    "                            batch_size=64, \n",
    "                            show_progress_bar=True,\n",
    "                            convert_to_numpy=True)\n",
    "\n",
    "# Convert to float32 for FAISS\n",
    "embeddings = np.array(embeddings, dtype=\"float32\")\n",
    "embeddings = np.ascontiguousarray(embeddings)\n",
    "\n",
    "print(\"Shape of embeddings:\", embeddings.shape)\n",
    "\n",
    "# Build FAISS index (L2 similarity)\n",
    "index = faiss.IndexFlatL2(embeddings.shape[1])\n",
    "index.add(embeddings)\n"
   ]
  },
  {
   "cell_type": "code",
   "execution_count": 7,
   "id": "99fc10f4",
   "metadata": {},
   "outputs": [],
   "source": [
    "recipe_map = {\n",
    "    i: {\n",
    "        \"title\": recipes.iloc[i][\"title\"],\n",
    "        \"ingredients\": recipes.iloc[i][\"ingredients\"],\n",
    "        \"directions\": recipes.iloc[i][\"directions\"],\n",
    "        \"link\": recipes.iloc[i][\"link\"]\n",
    "    }\n",
    "    for i in range(len(embeddings))\n",
    "}"
   ]
  },
  {
   "cell_type": "code",
   "execution_count": 8,
   "id": "7493e9e6",
   "metadata": {},
   "outputs": [
    {
     "name": "stdout",
     "output_type": "stream",
     "text": [
      "Rank 1: Chicken And Rice(Low-Fat)  \n",
      "Ingredients: [\"4 large tomatoes\", \"1 large red bell pepper\", \"2 medium onions\", \"2 c. uncooked rice\", \"salt and pepper\", \"garlic powder\", \"1 chicken bouillon\", \"4 boneless breasts of chicken\"]\n",
      "Directions: [\"Cut up tomatoes into large chunks.\", \"Cut up pepper into strips. Cut up onions into rings.\", \"Dissolve chicken bouillon with 1 cup water.\", \"Combine ingredients and simmer until tomatoes dissolve. Add salt, pepper and garlic powder.\", \"Cut up chicken in strips and add.\", \"Simmer another 1/2 hour.\", \"Cook rice and add (or) serve it over the rice.\"]\n",
      "Link: www.cookbooks.com/Recipe-Details.aspx?id=579749\n",
      "---\n",
      "Rank 2: Stuffed Potatoes\n",
      "Ingredients: [\"10 medium size potatoes\", \"sausage, uncooked\", \"1 can tomatoes\", \"1 can tomato sauce\", \"2 c. cooked mixed vegetables\", \"1 medium chopped onion\", \"1/2 c. chopped bell pepper\", \"garlic to taste\", \"salt and pepper to taste\"]\n",
      "Directions: [\"Peel potatoes.\", \"Spiral or cut out center.\", \"Stuff with sausage (uncooked).\", \"Put in a casserole dish.\", \"Mix tomatoes, tomato sauce, mixed vegetables, onion, pepper, garlic, salt and pepper.\", \"Place inside part of potato in dish.\", \"Bake at 350\\u00b0 for 45 minutes or until potatoes are tender and sausage is done.\", \"Cook covered.\"]\n",
      "Link: www.cookbooks.com/Recipe-Details.aspx?id=184375\n",
      "---\n",
      "Rank 3: Quicky Chicken(Serves 4 To 6)  \n",
      "Ingredients: [\"1 large broiler, cut up\", \"salt and pepper\", \"4 large potatoes, peel and quarter lengthwise\", \"1 onion, sliced\", \"garlic salt\", \"1 can tomato sauce (15 oz. size)\"]\n",
      "Directions: [\"Variation:\", \"Eliminate tomato sauce, use a little more oil to coat potatoes and add oregano and green pepper rings.\"]\n",
      "Link: www.cookbooks.com/Recipe-Details.aspx?id=330258\n",
      "---\n",
      "Rank 4: Chicken & Spaghetti Casserole\n",
      "Ingredients: [\"1 box spaghetti\", \"1/2 c chopped onion\", \"1/2 c celery\", \"1/2 c chicken broth\", \"1/2 tsp garlic salt\", \"3 chicken breasts\", \"1/2 c chopped bell pepper\", \"1 can mashed tomatoes\", \"1/4 tsp red pepper\"]\n",
      "Directions: [\"Cook spaghetti, set aside.\", \"Cook chicken breasts, cool and chop.\", \"Cook in 2 tbsp oleo, onions, bell pepper, and celery.\", \"Add tomatoes and 2 cups chicken broth, red peppers, and garlic salt. Cook 20 minutes.\", \"Add spaghetti, boned chicken and 1/2 tbsp chopped cheese.\"]\n",
      "Link: www.cookbooks.com/Recipe-Details.aspx?id=114386\n",
      "---\n",
      "Rank 5: Rosemary Chicken With Vegetables\n",
      "Ingredients: [\"2 to 3 lb. whole chicken\", \"1 lemon\", \"2 Tbsp. rosemary\", \"2 Tbsp. garlic\", \"salt and pepper\", \"4 new potatoes\", \"2 carrots\", \"2 small onions\"]\n",
      "Directions: [\"Rinse chicken with water and pat dry.\", \"Salt and pepper entire chicken, then rub garlic onto chicken, then pat rosemary on chicken.\", \"Sprinkle juice of 1 lemon over chicken and stick the used lemon in chicken cavity.\", \"Put chicken in clay roasting oven or roasting bag.\", \"Surround chicken with chunks of potatoes, carrots and onion around chicken.\", \"Place in 375\\u00b0 oven and cook between 1 to 1 1/2 hours (check for doneness).\", \"Serves 4.\"]\n",
      "Link: www.cookbooks.com/Recipe-Details.aspx?id=636051\n",
      "---\n"
     ]
    }
   ],
   "source": [
    "user_ingredients = [\"chicken\", \"tomato\", \"garlic\", \"onion\"]\n",
    "\n",
    "query = \"Recipes with \" + \", \".join(user_ingredients)\n",
    "query_vec = model.encode([query], convert_to_numpy=True)\n",
    "query_vec = np.ascontiguousarray(query_vec, dtype=np.float32)\n",
    "\n",
    "k = 5\n",
    "distances, indices = index.search(query_vec, k)\n",
    "\n",
    "for rank, idx in enumerate(indices[0]):\n",
    "    recipe = recipe_map[idx]\n",
    "    print(f\"Rank {rank+1}: {recipe['title']}\")\n",
    "    print(\"Ingredients:\", recipe['ingredients'])\n",
    "    print(\"Directions:\", recipe['directions'])\n",
    "    print(\"Link:\", recipe['link'])\n",
    "    print(\"---\")\n"
   ]
  },
  {
   "cell_type": "markdown",
   "id": "040ebe4e",
   "metadata": {},
   "source": [
    "# Food.com dataset EDA"
   ]
  },
  {
   "cell_type": "code",
   "execution_count": 22,
   "id": "b2a6d285",
   "metadata": {},
   "outputs": [],
   "source": [
    "import matplotlib.pyplot as plt"
   ]
  },
  {
   "cell_type": "code",
   "execution_count": null,
   "id": "b930f522",
   "metadata": {},
   "outputs": [],
   "source": [
    "food = pd.read_csv(\"../Data/Food/RAW_recipes.csv\")"
   ]
  },
  {
   "cell_type": "code",
   "execution_count": null,
   "id": "a87663c0",
   "metadata": {},
   "outputs": [
    {
     "name": "stdout",
     "output_type": "stream",
     "text": [
      "int64\n",
      "2147483647\n",
      "0\n"
     ]
    },
    {
     "data": {
      "image/png": "[encoded data removed]",
      "text/plain": [
       "<Figure size 640x480 with 1 Axes>"
      ]
     },
     "metadata": {},
     "output_type": "display_data"
    },
    {
     "data": {
      "image/png": "[encoded data removed]",
      "text/plain": [
       "<Figure size 640x480 with 1 Axes>"
      ]
     },
     "metadata": {},
     "output_type": "display_data"
    }
   ],
   "source": [
    "# prep time distribution\n",
    "\n",
    "print(food['minutes'].dtype)\n",
    "print(max(food['minutes']))\n",
    "print(min(food['minutes']))\n",
    "\n",
    "plt.boxplot(food['minutes'])\n",
    "plt.xlabel('Minutes')\n",
    "plt.ylabel('Number of Recipes')\n",
    "plt.title('Box Plot of Distribution of Recipe Prep Time')\n",
    "plt.show()\n",
    "\n",
    "low = food['minutes'].quantile(0.10)\n",
    "high = food['minutes'].quantile(0.90)\n",
    "filtered = food[(food['minutes'] >= low) & (food['minutes'] <= high)]\n",
    "\n",
    "plt.hist(filtered['minutes'], bins=10)\n",
    "plt.xlabel('Minutes')\n",
    "plt.ylabel('Number of Recipes')\n",
    "plt.title('Distribution of Recipe Prep Time')\n",
    "plt.show()"
   ]
  },
  {
   "cell_type": "code",
   "execution_count": 43,
   "id": "8749b701",
   "metadata": {},
   "outputs": [
    {
     "name": "stdout",
     "output_type": "stream",
     "text": [
      "int64\n",
      "43\n",
      "1\n"
     ]
    },
    {
     "data": {
      "image/png": "[encoded data removed]",
      "text/plain": [
       "<Figure size 640x480 with 1 Axes>"
      ]
     },
     "metadata": {},
     "output_type": "display_data"
    },
    {
     "data": {
      "image/png": "[encoded data removed]",
      "text/plain": [
       "<Figure size 640x480 with 1 Axes>"
      ]
     },
     "metadata": {},
     "output_type": "display_data"
    }
   ],
   "source": [
    "print(food['n_ingredients'].dtype)\n",
    "print(max(food['n_ingredients']))\n",
    "print(min(food['n_ingredients']))\n",
    "\n",
    "plt.boxplot(food['n_ingredients'])\n",
    "plt.xlabel('Number of Ingredients')\n",
    "plt.ylabel('Number of Recipes')\n",
    "plt.title('Box Plot of Distribution of Number of Ingredients in a Recipe')\n",
    "plt.show()\n",
    "\n",
    "low = food['n_ingredients'].quantile(0.10)\n",
    "high = food['n_ingredients'].quantile(0.90)\n",
    "filtered = food[(food['n_ingredients'] >= low) & (food['n_ingredients'] <= high)]\n",
    "\n",
    "plt.hist(filtered['n_ingredients'], bins=10)\n",
    "plt.xlabel('Number of Ingredients')\n",
    "plt.ylabel('Number of Recipes')\n",
    "plt.title('Distribution of Number of Ingredients in a Recipe')\n",
    "plt.show()"
   ]
  },
  {
   "cell_type": "markdown",
   "id": "10049196",
   "metadata": {},
   "source": [
    "# Food.com Dataset Vector DB\n",
    "\n",
    "The code below creates a vector DB with FAISS from all the ingredients mentioned in a dish's recipe."
   ]
  },
  {
   "cell_type": "code",
   "execution_count": 11,
   "id": "010e1891",
   "metadata": {},
   "outputs": [],
   "source": [
    "from sentence_transformers import SentenceTransformer"
   ]
  },
  {
   "cell_type": "code",
   "execution_count": null,
   "id": "ad5bbf60",
   "metadata": {},
   "outputs": [
    {
     "data": {
      "text/plain": [
       "Index(['name', 'id', 'minutes', 'contributor_id', 'submitted', 'tags',\n",
       "       'nutrition', 'n_steps', 'steps', 'description', 'ingredients',\n",
       "       'n_ingredients'],\n",
       "      dtype='object')"
      ]
     },
     "execution_count": 13,
     "metadata": {},
     "output_type": "execute_result"
    }
   ],
   "source": [
    "food = pd.read_csv(\"../Data/Food/RAW_recipes.csv\")\n",
    "food_tokenized = pd.read_csv('../Data/Food/PP_recipes.csv')\n"
   ]
  },
  {
   "cell_type": "code",
   "execution_count": 15,
   "id": "516f66ff",
   "metadata": {},
   "outputs": [],
   "source": [
    "def combine_text(row):\n",
    "    ingredients = \" ; \".join(eval(row['ingredients'])) if pd.notna(row['ingredients']) else \"\"\n",
    "    steps = \" \".join(eval(row['steps'])) if pd.notna(row['steps']) else \"\"\n",
    "    return ingredients + \" \" + steps\n",
    "\n",
    "food['recipe_text'] = food.apply(combine_text, axis=1)"
   ]
  },
  {
   "cell_type": "code",
   "execution_count": 44,
   "id": "0d1ea92a",
   "metadata": {},
   "outputs": [
    {
     "name": "stderr",
     "output_type": "stream",
     "text": [
      "Batches: 100%|██████████| 782/782 [09:14<00:00,  1.41it/s]\n"
     ]
    },
    {
     "name": "stdout",
     "output_type": "stream",
     "text": [
      "FAISS index built with 50000 recipes.\n"
     ]
    }
   ],
   "source": [
    "model = SentenceTransformer(\"all-MiniLM-L6-v2\")\n",
    "\n",
    "# Encode the recipe texts\n",
    "embeddings = model.encode(\n",
    "    food['recipe_text'].head(50000).tolist(),\n",
    "    batch_size=64,\n",
    "    show_progress_bar=True,\n",
    "    convert_to_numpy=True\n",
    ")\n",
    "\n",
    "# Convert embeddings to float32 for FAISS compatibility\n",
    "embeddings = np.array(embeddings, dtype='float32')\n",
    "\n",
    "dimension = embeddings.shape[1]  \n",
    "index = faiss.IndexFlatL2(dimension)\n",
    "index.add(embeddings)\n",
    "\n",
    "print(f\"FAISS index built with {index.ntotal} recipes.\")\n",
    "\n",
    "id_map = {i: {\n",
    "    \"name\": food.iloc[i]['name'],\n",
    "    \"ingredients\": food.iloc[i]['ingredients'],\n",
    "    \"steps\": food.iloc[i]['steps'],\n",
    "    \"minutes\": food.iloc[i]['minutes'],\n",
    "    \"nutrition\": food.iloc[i]['nutrition'],\n",
    "    \"link\": food.iloc[i].get('link', None) \n",
    "} for i in range(len(food))}"
   ]
  },
  {
   "cell_type": "code",
   "execution_count": 46,
   "id": "2fe19666",
   "metadata": {},
   "outputs": [],
   "source": [
    "\n",
    "def retrieve_recipes(user_ingredients, top_k=5):\n",
    "    query_emb = model.encode([user_ingredients], convert_to_numpy=True).astype(\"float32\")\n",
    "    distances, indices = index.search(query_emb, top_k)\n",
    "\n",
    "    retrieved = []\n",
    "    for idx in indices[0]:\n",
    "        recipe = id_map[idx]\n",
    "        retrieved.append(recipe)\n",
    "    return retrieved\n",
    "\n",
    "# User query\n",
    "user_ingredients = \"tomatoes, onions, garlic, bread, cheese\"\n",
    "top_recipes = retrieve_recipes(user_ingredients)\n"
   ]
  },
  {
   "cell_type": "code",
   "execution_count": 47,
   "id": "8fd12b09",
   "metadata": {},
   "outputs": [
    {
     "data": {
      "text/plain": [
       "[{'name': 'basically the best bruschetta ever',\n",
       "  'ingredients': \"['plum tomatoes', 'vidalia onion', 'elephant garlic', 'chives', 'extra virgin olive oil', 'balsamic vinegar', 'basil', 'oregano', 'black pepper']\",\n",
       "  'steps': \"['combine all ingredients above and refrigerate for several hours , check for taste and season accordingly', 'serve on garlic bread with some parm cheese or bake on the bread with a little feta or assagio cheese for a change of pace', 'enjoy']\",\n",
       "  'minutes': 150,\n",
       "  'nutrition': '[51.3, 4.0, 15.0, 0.0, 1.0, 2.0, 1.0]',\n",
       "  'link': None},\n",
       " {'name': 'avocado and sprout sandwiches',\n",
       "  'ingredients': \"['bread', 'avocado', 'tomatoes', 'cheese', 'sunflower sprouts', 'red onion']\",\n",
       "  'steps': \"['layer the ingredients on one slice of bread , top with the other slice , cut and eat']\",\n",
       "  'minutes': 10,\n",
       "  'nutrition': '[509.0, 45.0, 8.0, 56.0, 52.0, 89.0, 11.0]',\n",
       "  'link': None},\n",
       " {'name': 'bruschetta',\n",
       "  'ingredients': \"['tomatoes', 'red onion', 'garlic cloves', 'fresh parsley', 'romano cheese', 'italian salad dressing', 'french bread']\",\n",
       "  'steps': \"['mix all ingredients except bread and refrigerate 1 hour', 'slice bread and toast', 'serve with tomato mixture atop bread']\",\n",
       "  'minutes': 60,\n",
       "  'nutrition': '[74.2, 3.0, 7.0, 6.0, 5.0, 3.0, 3.0]',\n",
       "  'link': None},\n",
       " {'name': 'cheese with sun dried tomatoes',\n",
       "  'ingredients': \"['feta cheese', 'cream cheese', 'sour cream', 'garlic', 'chives', 'basil', 'fresh parsley', 'ground pepper', 'sun-dried tomatoes packed in oil', 'french bread']\",\n",
       "  'steps': \"['mix all above ingredients well', 'coarsely chop the tomatoes in a food processor', 'serve with crusty french bread']\",\n",
       "  'minutes': 10,\n",
       "  'nutrition': '[2053.1, 257.0, 44.0, 165.0, 135.0, 466.0, 30.0]',\n",
       "  'link': None},\n",
       " {'name': 'a pico de gallo for pico addicts anon',\n",
       "  'ingredients': \"['tomatoes', 'garlic', 'diced onion', 'cilantro', 'jalapenos', 'limes', 'olive oil', 'salt']\",\n",
       "  'steps': \"['mix all the ingredients and let it sit for half an hour', 'inhale - use a spoon to assist']\",\n",
       "  'minutes': 30,\n",
       "  'nutrition': '[101.6, 6.0, 29.0, 0.0, 5.0, 2.0, 6.0]',\n",
       "  'link': None}]"
      ]
     },
     "execution_count": 47,
     "metadata": {},
     "output_type": "execute_result"
    }
   ],
   "source": [
    "top_recipes"
   ]
  },
  {
   "cell_type": "markdown",
   "id": "75badd6b",
   "metadata": {},
   "source": [
    "# Recipe NLG Vector DB with ingredients and direction\n",
    "\n",
    "The code below creates a vector DB with FAISS from all the ingredients mentioned in a dish's recipe + plus the directions for the recipe. \n",
    "\n",
    "This might serve as the vector DB for Retrieval Augmented Generation of recipes using an LLM."
   ]
  },
  {
   "cell_type": "code",
   "execution_count": null,
   "id": "9813e378",
   "metadata": {},
   "outputs": [],
   "source": [
    "recipes['recipe_text'] = recipes.apply(\n",
    "    lambda row: str(row['title'] if pd.notnull(row['title']) else \"\") + \" \" +\n",
    "                \" \".join(row['NER']) if isinstance(row['NER'], (list, tuple)) else \"\", axis=1)\n",
    "                "
   ]
  }
 ],
 "metadata": {
  "kernelspec": {
   "display_name": "cookeroni-env",
   "language": "python",
   "name": "python3"
  },
  "language_info": {
   "codemirror_mode": {
    "name": "ipython",
    "version": 3
   },
   "file_extension": ".py",
   "mimetype": "text/x-python",
   "name": "python",
   "nbconvert_exporter": "python",
   "pygments_lexer": "ipython3",
   "version": "3.11.11"
  }
 },
 "nbformat": 4,
 "nbformat_minor": 5
}
